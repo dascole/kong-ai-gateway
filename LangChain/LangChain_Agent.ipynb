{
  "nbformat": 4,
  "nbformat_minor": 0,
  "metadata": {
    "colab": {
      "provenance": []
    },
    "kernelspec": {
      "name": "python3",
      "display_name": "Python 3"
    },
    "language_info": {
      "name": "python"
    }
  },
  "cells": [
    {
      "cell_type": "markdown",
      "source": [
        "# Kong Gateway 3.10 / Langchain agent\n",
        "\n",
        "This notebook demonstrates how to use the AI Proxy plugin with Langchain agents.\n",
        "\n",
        "## Prerequisites\n",
        "\n",
        "Before running the notebook, ensure you have the following:\n",
        "\n",
        "1. **Kong API Gateway running**: You will need a running instance of Kong API Gateway\n",
        "2. **AI Proxy plugin configured**: An example is provided in this repo in the form of a deck dump.\n",
        "3. **A [Tavily](https://tavily.com/) key** (free tier available). This is used to allow web searches for updated information.\n",
        "This can either be entered interactively or added to the notebook secrets."
      ],
      "metadata": {
        "id": "CkNNE3A1xCJu"
      }
    },
    {
      "cell_type": "code",
      "execution_count": null,
      "metadata": {
        "collapsed": true,
        "id": "qJjrjAAMMAoM"
      },
      "outputs": [],
      "source": [
        "!pip install -U langchain-openai numexpr langchain-community tavily-python langchain-openai langchainhub"
      ]
    },
    {
      "cell_type": "code",
      "source": [
        "from langchain_openai import AzureChatOpenAI\n",
        "from langchain.agents import initialize_agent,Tool\n",
        "from langchain_community.tools.tavily_search import TavilySearchResults\n",
        "from langchain.chains import LLMMathChain\n",
        "from google.colab import userdata\n",
        "import os\n",
        "import warnings"
      ],
      "metadata": {
        "id": "X-vBnnruMUdC"
      },
      "execution_count": 54,
      "outputs": []
    },
    {
      "cell_type": "code",
      "source": [
        "os.environ['TAVILY_API_KEY'] = userdata.get('TAVILY_API_KEY')"
      ],
      "metadata": {
        "id": "GcWlvbbFP8qi"
      },
      "execution_count": 55,
      "outputs": []
    },
    {
      "cell_type": "code",
      "source": [
        "warnings.filterwarnings(\"ignore\")"
      ],
      "metadata": {
        "id": "ktvGrMT0NHAT"
      },
      "execution_count": 56,
      "outputs": []
    },
    {
      "cell_type": "code",
      "source": [
        "try:\n",
        "  apikey=userdata.get('TAVILY_API_KEY')\n",
        "except:\n",
        "  raise ValueError('Please add your Tavily API key to the notebook secrets, ref: https://tavily.com/')"
      ],
      "metadata": {
        "id": "PJBzg8-BNJj4"
      },
      "execution_count": 57,
      "outputs": []
    },
    {
      "cell_type": "code",
      "source": [
        "if 'host' not in globals():\n",
        "  host = input(\"Enter your Gateway host url (http://localhost:8000/agent): \") or \"http://localhost:8000/agent\""
      ],
      "metadata": {
        "id": "cmVLzhIJNTf_"
      },
      "execution_count": 58,
      "outputs": []
    },
    {
      "cell_type": "code",
      "source": [
        "llm = AzureChatOpenAI(\n",
        "    azure_endpoint=host,\n",
        "    api_version=\"2023-03-15-preview\",\n",
        "    temperature=0,\n",
        "    timeout=None,\n",
        "    max_retries=3,\n",
        "    model=\"gpt-4o\",\n",
        "    api_key=\"123\",\n",
        "    streaming=True\n",
        ")"
      ],
      "metadata": {
        "id": "8LmiaYHROdVk"
      },
      "execution_count": 59,
      "outputs": []
    },
    {
      "cell_type": "code",
      "source": [
        "tavily_tool = TavilySearchResults(max_results=1)"
      ],
      "metadata": {
        "id": "LZ3Rd8UaOhhp"
      },
      "execution_count": 60,
      "outputs": []
    },
    {
      "cell_type": "code",
      "source": [
        "math_tool = LLMMathChain(llm=llm)"
      ],
      "metadata": {
        "id": "dWylRfa-NX-C"
      },
      "execution_count": 61,
      "outputs": []
    },
    {
      "cell_type": "code",
      "source": [
        "prompt_template = \"\"\"\n",
        "You are an assistant that has access to two tools: a calculator and a web search tool. You can use the calculator to perform calculations or use the web search tool to find information.\n",
        "\n",
        "here is the user input: {input}\n",
        "\"\"\""
      ],
      "metadata": {
        "id": "5O8ftSkcOmCk"
      },
      "execution_count": 62,
      "outputs": []
    },
    {
      "cell_type": "code",
      "source": [
        "tools = [\n",
        "    Tool(\n",
        "        name=\"Tavily Search\",\n",
        "        func=tavily_tool.invoke,\n",
        "        description=\"Search the web for information\",\n",
        "    ),\n",
        "    Tool(\n",
        "        name=\"Math Tool\",\n",
        "        func=math_tool.run,\n",
        "        description=\"Perform calculations\",\n",
        "    )\n",
        "\n",
        "]"
      ],
      "metadata": {
        "id": "FyYzbbwDOneo"
      },
      "execution_count": 63,
      "outputs": []
    },
    {
      "cell_type": "code",
      "source": [
        "agent = initialize_agent(llm=llm,tools=tools,prompt_template=prompt_template,verbose=True)"
      ],
      "metadata": {
        "id": "CEHoWEMEOpVj"
      },
      "execution_count": 64,
      "outputs": []
    },
    {
      "cell_type": "code",
      "source": [
        "user_input = \"\"\"Add 2 + the current population of the United States as of today, then tell me what 10% of the answer is. You will then multiply that percentage\n",
        "by 100 and divide the result by 0.1. Finally, you will tell me if this is greater or less than the current population of the United Kingdom as of today.\"\"\""
      ],
      "metadata": {
        "id": "G0YnMwdqOq_f"
      },
      "execution_count": 65,
      "outputs": []
    },
    {
      "cell_type": "code",
      "source": [
        "response = agent.run(user_input)"
      ],
      "metadata": {
        "id": "m2veT_2wOtSH"
      },
      "execution_count": null,
      "outputs": []
    }
  ]
}