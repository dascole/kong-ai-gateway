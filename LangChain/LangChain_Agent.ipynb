{
  "nbformat": 4,
  "nbformat_minor": 0,
  "metadata": {
    "colab": {
      "provenance": []
    },
    "kernelspec": {
      "name": "python3",
      "display_name": "Python 3"
    },
    "language_info": {
      "name": "python"
    }
  },
  "cells": [
    {
      "cell_type": "markdown",
      "source": [
        "# Kong Gateway 3.10 / Langchain agent\n",
        "\n",
        "This notebook demonstrates how to use the AI Proxy plugin with Langchain agents.\n",
        "\n",
        "## Prerequisites\n",
        "\n",
        "Before running the notebook, ensure you have the following:\n",
        "\n",
        "1. **Kong API Gateway running**: You will need a running instance of Kong API Gateway\n",
        "2. **AI Proxy plugin configured**: An example is provided in this repo in the form of a deck dump.\n",
        "3. **A [Tavily](https://tavily.com/) key** (free tier available). This is used to allow web searches for updated information.\n",
        "This can either be entered interactively or added to the notebook secrets."
      ],
      "metadata": {
        "id": "CkNNE3A1xCJu"
      }
    },
    {
      "cell_type": "code",
      "execution_count": 68,
      "metadata": {
        "collapsed": true,
        "id": "qJjrjAAMMAoM",
        "colab": {
          "base_uri": "https://localhost:8080/"
        },
        "outputId": "ae3b536c-c7a8-46aa-ee4e-8a749d3d44a0"
      },
      "outputs": [
        {
          "output_type": "stream",
          "name": "stdout",
          "text": [
            "Requirement already satisfied: langchain-openai in /usr/local/lib/python3.11/dist-packages (0.3.17)\n",
            "Requirement already satisfied: numexpr in /usr/local/lib/python3.11/dist-packages (2.10.2)\n",
            "Requirement already satisfied: langchain-community in /usr/local/lib/python3.11/dist-packages (0.3.24)\n",
            "Requirement already satisfied: tavily-python in /usr/local/lib/python3.11/dist-packages (0.7.2)\n",
            "Requirement already satisfied: langchainhub in /usr/local/lib/python3.11/dist-packages (0.1.21)\n",
            "Requirement already satisfied: langchain-core<1.0.0,>=0.3.59 in /usr/local/lib/python3.11/dist-packages (from langchain-openai) (0.3.59)\n",
            "Requirement already satisfied: openai<2.0.0,>=1.68.2 in /usr/local/lib/python3.11/dist-packages (from langchain-openai) (1.78.1)\n",
            "Requirement already satisfied: tiktoken<1,>=0.7 in /usr/local/lib/python3.11/dist-packages (from langchain-openai) (0.9.0)\n",
            "Requirement already satisfied: numpy>=1.23.0 in /usr/local/lib/python3.11/dist-packages (from numexpr) (2.0.2)\n",
            "Requirement already satisfied: langchain<1.0.0,>=0.3.25 in /usr/local/lib/python3.11/dist-packages (from langchain-community) (0.3.25)\n",
            "Requirement already satisfied: SQLAlchemy<3,>=1.4 in /usr/local/lib/python3.11/dist-packages (from langchain-community) (2.0.40)\n",
            "Requirement already satisfied: requests<3,>=2 in /usr/local/lib/python3.11/dist-packages (from langchain-community) (2.32.3)\n",
            "Requirement already satisfied: PyYAML>=5.3 in /usr/local/lib/python3.11/dist-packages (from langchain-community) (6.0.2)\n",
            "Requirement already satisfied: aiohttp<4.0.0,>=3.8.3 in /usr/local/lib/python3.11/dist-packages (from langchain-community) (3.11.15)\n",
            "Requirement already satisfied: tenacity!=8.4.0,<10,>=8.1.0 in /usr/local/lib/python3.11/dist-packages (from langchain-community) (9.1.2)\n",
            "Requirement already satisfied: dataclasses-json<0.7,>=0.5.7 in /usr/local/lib/python3.11/dist-packages (from langchain-community) (0.6.7)\n",
            "Requirement already satisfied: pydantic-settings<3.0.0,>=2.4.0 in /usr/local/lib/python3.11/dist-packages (from langchain-community) (2.9.1)\n",
            "Requirement already satisfied: langsmith<0.4,>=0.1.125 in /usr/local/lib/python3.11/dist-packages (from langchain-community) (0.3.42)\n",
            "Requirement already satisfied: httpx-sse<1.0.0,>=0.4.0 in /usr/local/lib/python3.11/dist-packages (from langchain-community) (0.4.0)\n",
            "Requirement already satisfied: httpx in /usr/local/lib/python3.11/dist-packages (from tavily-python) (0.28.1)\n",
            "Requirement already satisfied: packaging<25,>=23.2 in /usr/local/lib/python3.11/dist-packages (from langchainhub) (24.2)\n",
            "Requirement already satisfied: types-requests<3.0.0.0,>=2.31.0.2 in /usr/local/lib/python3.11/dist-packages (from langchainhub) (2.32.0.20250515)\n",
            "Requirement already satisfied: aiohappyeyeballs>=2.3.0 in /usr/local/lib/python3.11/dist-packages (from aiohttp<4.0.0,>=3.8.3->langchain-community) (2.6.1)\n",
            "Requirement already satisfied: aiosignal>=1.1.2 in /usr/local/lib/python3.11/dist-packages (from aiohttp<4.0.0,>=3.8.3->langchain-community) (1.3.2)\n",
            "Requirement already satisfied: attrs>=17.3.0 in /usr/local/lib/python3.11/dist-packages (from aiohttp<4.0.0,>=3.8.3->langchain-community) (25.3.0)\n",
            "Requirement already satisfied: frozenlist>=1.1.1 in /usr/local/lib/python3.11/dist-packages (from aiohttp<4.0.0,>=3.8.3->langchain-community) (1.6.0)\n",
            "Requirement already satisfied: multidict<7.0,>=4.5 in /usr/local/lib/python3.11/dist-packages (from aiohttp<4.0.0,>=3.8.3->langchain-community) (6.4.3)\n",
            "Requirement already satisfied: propcache>=0.2.0 in /usr/local/lib/python3.11/dist-packages (from aiohttp<4.0.0,>=3.8.3->langchain-community) (0.3.1)\n",
            "Requirement already satisfied: yarl<2.0,>=1.17.0 in /usr/local/lib/python3.11/dist-packages (from aiohttp<4.0.0,>=3.8.3->langchain-community) (1.20.0)\n",
            "Requirement already satisfied: marshmallow<4.0.0,>=3.18.0 in /usr/local/lib/python3.11/dist-packages (from dataclasses-json<0.7,>=0.5.7->langchain-community) (3.26.1)\n",
            "Requirement already satisfied: typing-inspect<1,>=0.4.0 in /usr/local/lib/python3.11/dist-packages (from dataclasses-json<0.7,>=0.5.7->langchain-community) (0.9.0)\n",
            "Requirement already satisfied: langchain-text-splitters<1.0.0,>=0.3.8 in /usr/local/lib/python3.11/dist-packages (from langchain<1.0.0,>=0.3.25->langchain-community) (0.3.8)\n",
            "Requirement already satisfied: pydantic<3.0.0,>=2.7.4 in /usr/local/lib/python3.11/dist-packages (from langchain<1.0.0,>=0.3.25->langchain-community) (2.11.4)\n",
            "Requirement already satisfied: jsonpatch<2.0,>=1.33 in /usr/local/lib/python3.11/dist-packages (from langchain-core<1.0.0,>=0.3.59->langchain-openai) (1.33)\n",
            "Requirement already satisfied: typing-extensions>=4.7 in /usr/local/lib/python3.11/dist-packages (from langchain-core<1.0.0,>=0.3.59->langchain-openai) (4.13.2)\n",
            "Requirement already satisfied: orjson<4.0.0,>=3.9.14 in /usr/local/lib/python3.11/dist-packages (from langsmith<0.4,>=0.1.125->langchain-community) (3.10.18)\n",
            "Requirement already satisfied: requests-toolbelt<2.0.0,>=1.0.0 in /usr/local/lib/python3.11/dist-packages (from langsmith<0.4,>=0.1.125->langchain-community) (1.0.0)\n",
            "Requirement already satisfied: zstandard<0.24.0,>=0.23.0 in /usr/local/lib/python3.11/dist-packages (from langsmith<0.4,>=0.1.125->langchain-community) (0.23.0)\n",
            "Requirement already satisfied: anyio in /usr/local/lib/python3.11/dist-packages (from httpx->tavily-python) (4.9.0)\n",
            "Requirement already satisfied: certifi in /usr/local/lib/python3.11/dist-packages (from httpx->tavily-python) (2025.4.26)\n",
            "Requirement already satisfied: httpcore==1.* in /usr/local/lib/python3.11/dist-packages (from httpx->tavily-python) (1.0.9)\n",
            "Requirement already satisfied: idna in /usr/local/lib/python3.11/dist-packages (from httpx->tavily-python) (3.10)\n",
            "Requirement already satisfied: h11>=0.16 in /usr/local/lib/python3.11/dist-packages (from httpcore==1.*->httpx->tavily-python) (0.16.0)\n",
            "Requirement already satisfied: distro<2,>=1.7.0 in /usr/local/lib/python3.11/dist-packages (from openai<2.0.0,>=1.68.2->langchain-openai) (1.9.0)\n",
            "Requirement already satisfied: jiter<1,>=0.4.0 in /usr/local/lib/python3.11/dist-packages (from openai<2.0.0,>=1.68.2->langchain-openai) (0.9.0)\n",
            "Requirement already satisfied: sniffio in /usr/local/lib/python3.11/dist-packages (from openai<2.0.0,>=1.68.2->langchain-openai) (1.3.1)\n",
            "Requirement already satisfied: tqdm>4 in /usr/local/lib/python3.11/dist-packages (from openai<2.0.0,>=1.68.2->langchain-openai) (4.67.1)\n",
            "Requirement already satisfied: python-dotenv>=0.21.0 in /usr/local/lib/python3.11/dist-packages (from pydantic-settings<3.0.0,>=2.4.0->langchain-community) (1.1.0)\n",
            "Requirement already satisfied: typing-inspection>=0.4.0 in /usr/local/lib/python3.11/dist-packages (from pydantic-settings<3.0.0,>=2.4.0->langchain-community) (0.4.0)\n",
            "Requirement already satisfied: charset-normalizer<4,>=2 in /usr/local/lib/python3.11/dist-packages (from requests<3,>=2->langchain-community) (3.4.2)\n",
            "Requirement already satisfied: urllib3<3,>=1.21.1 in /usr/local/lib/python3.11/dist-packages (from requests<3,>=2->langchain-community) (2.4.0)\n",
            "Requirement already satisfied: greenlet>=1 in /usr/local/lib/python3.11/dist-packages (from SQLAlchemy<3,>=1.4->langchain-community) (3.2.2)\n",
            "Requirement already satisfied: regex>=2022.1.18 in /usr/local/lib/python3.11/dist-packages (from tiktoken<1,>=0.7->langchain-openai) (2024.11.6)\n",
            "Requirement already satisfied: jsonpointer>=1.9 in /usr/local/lib/python3.11/dist-packages (from jsonpatch<2.0,>=1.33->langchain-core<1.0.0,>=0.3.59->langchain-openai) (3.0.0)\n",
            "Requirement already satisfied: annotated-types>=0.6.0 in /usr/local/lib/python3.11/dist-packages (from pydantic<3.0.0,>=2.7.4->langchain<1.0.0,>=0.3.25->langchain-community) (0.7.0)\n",
            "Requirement already satisfied: pydantic-core==2.33.2 in /usr/local/lib/python3.11/dist-packages (from pydantic<3.0.0,>=2.7.4->langchain<1.0.0,>=0.3.25->langchain-community) (2.33.2)\n",
            "Requirement already satisfied: mypy-extensions>=0.3.0 in /usr/local/lib/python3.11/dist-packages (from typing-inspect<1,>=0.4.0->dataclasses-json<0.7,>=0.5.7->langchain-community) (1.1.0)\n"
          ]
        }
      ],
      "source": [
        "!pip install -U langchain-openai numexpr langchain-community tavily-python langchain-openai langchainhub"
      ]
    },
    {
      "cell_type": "code",
      "source": [
        "from langchain_openai import AzureChatOpenAI\n",
        "from langchain.agents import initialize_agent,Tool\n",
        "from langchain_community.tools.tavily_search import TavilySearchResults\n",
        "from langchain.chains import LLMMathChain\n",
        "from google.colab import userdata\n",
        "import os\n",
        "import warnings"
      ],
      "metadata": {
        "id": "X-vBnnruMUdC"
      },
      "execution_count": 69,
      "outputs": []
    },
    {
      "cell_type": "code",
      "source": [
        "os.environ['TAVILY_API_KEY'] = userdata.get('TAVILY_API_KEY')"
      ],
      "metadata": {
        "id": "GcWlvbbFP8qi"
      },
      "execution_count": 70,
      "outputs": []
    },
    {
      "cell_type": "code",
      "source": [
        "warnings.filterwarnings(\"ignore\")"
      ],
      "metadata": {
        "id": "ktvGrMT0NHAT"
      },
      "execution_count": 71,
      "outputs": []
    },
    {
      "cell_type": "code",
      "source": [
        "try:\n",
        "  apikey=userdata.get('TAVILY_API_KEY')\n",
        "except:\n",
        "  raise ValueError('Please add your Tavily API key to the notebook secrets, ref: https://tavily.com/')"
      ],
      "metadata": {
        "id": "PJBzg8-BNJj4"
      },
      "execution_count": 72,
      "outputs": []
    },
    {
      "cell_type": "code",
      "source": [
        "if 'host' not in globals():\n",
        "  host = input(\"Enter your Gateway host url (http://localhost:8000/agent): \") or \"http://localhost:8000/agent\""
      ],
      "metadata": {
        "id": "cmVLzhIJNTf_"
      },
      "execution_count": 73,
      "outputs": []
    },
    {
      "cell_type": "code",
      "source": [
        "llm = AzureChatOpenAI(\n",
        "    azure_endpoint=host,\n",
        "    api_version=\"2023-03-15-preview\",\n",
        "    temperature=0,\n",
        "    timeout=None,\n",
        "    max_retries=3,\n",
        "    model=\"gpt-4o\",\n",
        "    api_key=\"123\",\n",
        "    streaming=True\n",
        ")"
      ],
      "metadata": {
        "id": "8LmiaYHROdVk"
      },
      "execution_count": 74,
      "outputs": []
    },
    {
      "cell_type": "code",
      "source": [
        "tavily_tool = TavilySearchResults(max_results=1)"
      ],
      "metadata": {
        "id": "LZ3Rd8UaOhhp"
      },
      "execution_count": 75,
      "outputs": []
    },
    {
      "cell_type": "code",
      "source": [
        "math_tool = LLMMathChain(llm=llm)"
      ],
      "metadata": {
        "id": "dWylRfa-NX-C"
      },
      "execution_count": 76,
      "outputs": []
    },
    {
      "cell_type": "code",
      "source": [
        "prompt_template = \"\"\"\n",
        "You are an assistant that has access to two tools: a calculator and a web search tool. You can use the calculator to perform calculations or use the web search tool to find information.\n",
        "\n",
        "here is the user input: {input}\n",
        "\"\"\""
      ],
      "metadata": {
        "id": "5O8ftSkcOmCk"
      },
      "execution_count": 77,
      "outputs": []
    },
    {
      "cell_type": "code",
      "source": [
        "tools = [\n",
        "    Tool(\n",
        "        name=\"Tavily Search\",\n",
        "        func=tavily_tool.invoke,\n",
        "        description=\"Search the web for information\",\n",
        "    ),\n",
        "    Tool(\n",
        "        name=\"Math Tool\",\n",
        "        func=math_tool.run,\n",
        "        description=\"Perform calculations\",\n",
        "    )\n",
        "\n",
        "]"
      ],
      "metadata": {
        "id": "FyYzbbwDOneo"
      },
      "execution_count": 78,
      "outputs": []
    },
    {
      "cell_type": "code",
      "source": [
        "agent = initialize_agent(llm=llm,tools=tools,prompt_template=prompt_template,verbose=True)"
      ],
      "metadata": {
        "id": "CEHoWEMEOpVj"
      },
      "execution_count": 79,
      "outputs": []
    },
    {
      "cell_type": "code",
      "source": [
        "user_input = \"\"\"Add 2 + the current population of the United States as of today, then tell me what 10% of the answer is. You will then multiply that percentage\n",
        "by 100 and divide the result by 0.1. Finally, you will tell me if this is greater or less than the current population of the United Kingdom as of today.\"\"\""
      ],
      "metadata": {
        "id": "G0YnMwdqOq_f"
      },
      "execution_count": 80,
      "outputs": []
    },
    {
      "cell_type": "code",
      "source": [
        "response = agent.run(user_input)"
      ],
      "metadata": {
        "id": "m2veT_2wOtSH",
        "colab": {
          "base_uri": "https://localhost:8080/"
        },
        "outputId": "402763d8-97d8-4388-9089-d6d6f030c17c"
      },
      "execution_count": 81,
      "outputs": [
        {
          "output_type": "stream",
          "name": "stdout",
          "text": [
            "\n",
            "\n",
            "\u001b[1m> Entering new AgentExecutor chain...\u001b[0m\n",
            "\u001b[32;1m\u001b[1;3mI need to first find the current population of the United States and the United Kingdom, then follow the steps given in the question to get the final answer.\n",
            "Action: Tavily Search\n",
            "Action Input: \"current population of the United States as of today\"\u001b[0m\n",
            "Observation: \u001b[36;1m\u001b[1;3m[{'title': 'United States of America (USA) Population - Countrymeters.', 'url': 'https://countrymeters.info/en/United_States_of_America_(USA)', 'content': 'The current population of United States of America (USA) is 343635892 as of Tuesday, May 20, 2025. Population clock live, current, historical and projected', 'score': 0.91563576}]\u001b[0m\n",
            "Thought:\u001b[32;1m\u001b[1;3mI have found the current population of the United States, now I need to find the current population of the United Kingdom.\n",
            "Action: Tavily Search\n",
            "Action Input: \"current population of the United Kingdom as of today\"\u001b[0m\n",
            "Observation: \u001b[36;1m\u001b[1;3m[{'title': 'United Kingdom (UK) population (2025) live - Countrymeters.', 'url': 'https://countrymeters.info/en/United_Kingdom_(UK)', 'content': 'As of 1 January 2025, the population of United Kingdom (UK) was estimated to be 69,861,990 people. This is an increase of 0.63 % (435,995 people) compared to', 'score': 0.8591094}]\u001b[0m\n",
            "Thought:\u001b[32;1m\u001b[1;3mI have found the current population of the United Kingdom as well. Now I need to perform the calculations as instructed in the question.\n",
            "Action: Math Tool\n",
            "Action Input: Add 2 + 343635892, then find 10% of the result, multiply by 100, divide by 0.1\u001b[0m\n",
            "Observation: \u001b[33;1m\u001b[1;3mAnswer: 34363589400.0\u001b[0m\n",
            "Thought:\u001b[32;1m\u001b[1;3mI have the final result of the calculations. Now I need to compare it to the current population of the United Kingdom.\n",
            "Action: Math Tool\n",
            "Action Input: Compare 34363589400.0 to 69861990\u001b[0m\n",
            "Observation: \u001b[33;1m\u001b[1;3mAnswer: True\u001b[0m\n",
            "Thought:\u001b[32;1m\u001b[1;3mThe final answer is True, the result of the calculations is greater than the current population of the United Kingdom. \n",
            "Final Answer: True\u001b[0m\n",
            "\n",
            "\u001b[1m> Finished chain.\u001b[0m\n"
          ]
        }
      ]
    }
  ]
}